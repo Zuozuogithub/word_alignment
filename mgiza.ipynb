{
 "cells": [
  {
   "cell_type": "markdown",
   "metadata": {},
   "source": [
    "因为最近在做词对齐，采用mgiza这个古老的工具，画了一个星期来配环境，我可不希望，配了就忘了，毕竟花了我好长时间。"
   ]
  },
  {
   "cell_type": "markdown",
   "metadata": {},
   "source": [
    "1.找到相应的git地址\n",
    "https://github.com/moses-smt/mgiza.git\n",
    "    git clone 到相应服务器目录\n",
    "    "
   ]
  },
  {
   "cell_type": "markdown",
   "metadata": {},
   "source": [
    "2.下载完后\n",
    "cd mgizapp\n",
    "ls\n",
    "vim INSTALL看到具体操作命令，执行以下步骤\n",
    "cmake .\n",
    "make -j20\n",
    "cd bin 看到很多文件，copy到自己的项目目录中去\n",
    "cp d4norm mgiza plain2snt  snt2coocrmp symal  hmmnorm  mkcls  snt2cooc snt2plain  /SuperBig/word_alignment/mgiza\n",
    "\n"
   ]
  },
  {
   "cell_type": "markdown",
   "metadata": {},
   "source": [
    "3.运行脚本\n",
    "#!/bin/bash\n",
    "# Written by Fabico Ticconi (www.fabioticconi.wordpress.com)\n",
    "# Edited by VietThang (vietthang.hcmus@gmail.com)\n",
    "\n",
    "# Path to bilingual corpus\n",
    "fcorpus=\"/home/vietthang/mycorpus/DemoMGiza/europarl-v7.de-en\"\n",
    "ecorpus=\"/home/vietthang/mycorpus/DemoMGiza/europarl-v7.de-en\"\n",
    "# Path to tokenizer (using Moses's tokenizer)\n",
    "tokenizer=\"/home/vietthang/nlptools/mosesdecoder/scripts/tokenizer/tokenizer.perl\"\n",
    "\n",
    "# In this script we assume that the target language is always english, and the source languages those in the \"for\" cycle\n",
    "\n",
    "${tokenizer} -l en < ${ecorpus}.en > ${ecorpus}.tok.en\n",
    "\n",
    "tr '[:upper:]' '[:lower:]' < ${ecorpus}.tok.en > ${ecorpus}.tok.low.en\n",
    "\n",
    "./mkcls -n10 -p${ecorpus}.tok.low.en -V${ecorpus}.tok.low.en.vcb.classes\n",
    "\n",
    "for l in \"de\"\n",
    "do\n",
    "\techo \"Pre-processing: tokenizing and lowering...\"\n",
    "\n",
    "\t${tokenizer} -l ${l} < ${fcorpus}.${l} > ${fcorpus}.tok.${l}\n",
    "\n",
    "\ttr '[:upper:]' '[:lower:]' < ${fcorpus}.tok.${l} > ${fcorpus}.tok.low.${l}\n",
    "\n",
    "\techo \"Finished pre-processing, starting creation of vocabulary, cooccurrence and classes...\"\n",
    "\n",
    "\t./mkcls -n10 -p${fcorpus}.tok.low.${l} -V${fcorpus}.tok.low.${l}.vcb.classes\n",
    "\n",
    "\t./plain2snt ${fcorpus}.tok.low.${l} ${ecorpus}.tok.low.en -snt1 ${ecorpus}.tok.low.snt\n",
    "\n",
    "\t./snt2cooc ${ecorpus}.tok.low.cooc ${fcorpus}.tok.low.${l}.vcb ${ecorpus}.tok.low.en.vcb ${ecorpus}.tok.low.snt\n",
    "\n",
    "\techo \"Finished creation! Now we start, really :)\"\n",
    "\n",
    "\techo \"Starting alignment: ${l} -> en\" > ${l}.timelog\n",
    "\tdate >> ${l}.timelog\n",
    "\n",
    "\t./mgiza ${ecorpus}.dict.gizacfg\n",
    "\n",
    "\techo \"Finished alignment, starting merge of parts\" >> ${l}.timelog\n",
    "\n",
    "\tdate >> ${l}.timelog\n",
    "\n",
    "\tfor i in 0 1 2 3\n",
    "    do\n",
    "\t\tcat ${ecorpus}.dict.A3.final.part${i} >> ${ecorpus}.corpus_word_aligned\n",
    "\tdone\n",
    "\n",
    "\trm ${ecorpus}.dict.A3.final.part*\n",
    "\n",
    "\tdate >> ${l}.timelog\n",
    "\techo \"End of process.\" >> ${l}.timelog\n",
    "done\n"
   ]
  },
  {
   "cell_type": "markdown",
   "metadata": {},
   "source": [
    "5.修改\n",
    "cat 是查看命令\n",
    "根据自己的情况修改代码，完成词对齐任务\n",
    "./alignscript\n"
   ]
  }
 ],
 "metadata": {
  "kernelspec": {
   "display_name": "Python 3",
   "language": "python",
   "name": "python3"
  },
  "language_info": {
   "codemirror_mode": {
    "name": "ipython",
    "version": 3
   },
   "file_extension": ".py",
   "mimetype": "text/x-python",
   "name": "python",
   "nbconvert_exporter": "python",
   "pygments_lexer": "ipython3",
   "version": "3.6.7"
  }
 },
 "nbformat": 4,
 "nbformat_minor": 2
}
